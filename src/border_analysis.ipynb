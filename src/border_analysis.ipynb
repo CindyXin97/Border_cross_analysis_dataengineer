{
 "cells": [
  {
   "cell_type": "code",
   "execution_count": 3,
   "metadata": {},
   "outputs": [
    {
     "name": "stdout",
     "output_type": "stream",
     "text": [
      "('input file is ', 'Border_Crossing_Entry_Data.csv\\n')\n",
      "('output file is ', '/Users/cindy/Library/Jupyter/runtime/kernel-cf0135d5-82b0-4689-abed-1d5e179116d7.json\\n')\n"
     ]
    }
   ],
   "source": [
    "#!/usr/bin/env python\n",
    "# coding: utf-8\n",
    "\n",
    "import csv, sys\n",
    "from datetime import datetime as dt\n",
    "import collections\n",
    "\n",
    "\n",
    "#Created a list named border cross by reading the Border_Crossing_Entry_Data.csv\n",
    "#Also, we used a function called nametuple to transfer the elements in the list to the tuple\n",
    "def read_border(input_file):\n",
    "    borderCross=[]\n",
    "    for i in map(BorderCross._make, csv.reader(open(input_file, \"r\"))):\n",
    "        borderCross.append(i)\n",
    "    \n",
    "    # Remove first row \n",
    "    borderCross.pop(0)\n",
    "\n",
    "    return borderCross\n",
    "\n",
    "# Merge data with the same Border, Measure, and Date to write report, and calculate running monthly average\n",
    "def border_analysis(borderCross):\n",
    "    report=[]\n",
    "    border_date = []\n",
    "    border_measure = dict()\n",
    "    \n",
    "#interate every record in the borderCross and merge the data with border, Measure and date write it inth report\n",
    "    for j in borderCross:\n",
    "        border = j.Border + ',' + j.Measure\n",
    "        unique_record = border + ',' + j.Date\n",
    "\n",
    "        if unique_record not in border_date:\n",
    "            border_date.append(unique_record)\n",
    "            temp = Report(j.Border, dt.strptime(j.Date, '%m/%d/%Y %I:%M:%S %p'), j.Measure, int(j.Value), 0)\n",
    "            report.append(temp)\n",
    "#Increase the value if it already in the list                \n",
    "        else:\n",
    "            report_index = border_date.index(unique_record)\n",
    "            report[report_index]=report[report_index]._replace(Value=report[report_index].Value+int(j.Value))\n",
    "        \n",
    "        if border not in border_measure:\n",
    "            border_measure[border] = []\n",
    "    \n",
    "        border_measure[border].append((dt.strptime(j.Date, '%m/%d/%Y %I:%M:%S %p'), int(j.Value)))\n",
    "        \n",
    "###Check Point:\n",
    "    #print(report)\n",
    "    #print(border_meaure)\n",
    "    \n",
    "    # Sort report by Date, Value, Measure, and Border \n",
    "    report.sort(key=lambda x:x.Border, reverse = True)\n",
    "    report.sort(key=lambda x:x.Measure, reverse = True)\n",
    "    report.sort(key=lambda x:x.Value, reverse = True)\n",
    "    report.sort(key=lambda x:x.Date, reverse = True)        \n",
    "\n",
    "    # Calculate running monthly average\n",
    "    for index,record in enumerate(report):\n",
    "        border = record.Border + ',' + record.Measure\n",
    "        current_date = record.Date\n",
    "        \n",
    "        date_value = border_measure[border]\n",
    "\n",
    "        # Get all previous values compared with the current date\n",
    "        previous_values = [value for datestr, value in date_value if datestr<current_date]\n",
    "        \n",
    "        # Extract all previous months for each pair of border and measure\n",
    "        previous_months = set([datestr for datestr,_ in date_value if datestr<current_date])\n",
    "        ## calculate the average value\n",
    "        if previous_months:\n",
    "            report[index]=report[index]._replace(Average=round(sum(previous_values)/len(previous_months)))\n",
    "\n",
    "    return report\n",
    "\n",
    "# Write report to report.csv\n",
    "def write_report(report):\n",
    "    with open(output_file, 'w') as f:\n",
    "        w = csv.writer(f)\n",
    "        w.writerow(('Border', 'Date', 'Measure', 'Value', 'Average'))\n",
    "        w.writerows([i.Border, i.Date.strftime('%m/%d/%Y %I:%M:%S %p'), i.Measure, i.Value, i.Average] for i in report)\n",
    "\n",
    "#write a Python Module to excute all the sourcing \n",
    "if __name__ == '__main__':\n",
    "    input_file = sys.argv[1]\n",
    "    output_file = sys.argv[2]\n",
    "    #if you use command line to excute the file, you can delete this line.\n",
    "    #input_file ='Border_Crossing_Entry_Data.csv'\n",
    "    \n",
    "    print('input file is ', input_file +'\\n')\n",
    "    print('output file is ', output_file + '\\n')\n",
    "\n",
    "    # Namedtuple for reading Border_Crossing_Entry_Data.csv\n",
    "    BorderCross = collections.namedtuple('BorderCross', 'Port_Name, State, Port_Code, Border, Date, Measure, Value, Location')\n",
    "\n",
    "    # Namedtuple for writing report\n",
    "    Report = collections.namedtuple('Report', 'Border, Date, Measure, Value, Average')\n",
    "\n",
    "    # Read Border_Crossing_Entry_Data.csv\n",
    "    borderCross = read_border(input_file)\n",
    "\n",
    "    # Generate report\n",
    "    report = border_analysis(borderCross)\n",
    "    \n",
    "    # Write report\n",
    "    write_report(report)"
   ]
  },
  {
   "cell_type": "code",
   "execution_count": 49,
   "metadata": {},
   "outputs": [
    {
     "data": {
      "text/plain": [
       "[Report(Border='US-Mexico Border', Date=datetime.datetime(2019, 3, 1, 0, 0), Measure='Pedestrians', Value=346158, Average=114486.0),\n",
       " Report(Border='US-Canada Border', Date=datetime.datetime(2019, 3, 1, 0, 0), Measure='Truck Containers Full', Value=6483, Average=0),\n",
       " Report(Border='US-Canada Border', Date=datetime.datetime(2019, 3, 1, 0, 0), Measure='Trains', Value=19, Average=0),\n",
       " Report(Border='US-Mexico Border', Date=datetime.datetime(2019, 2, 1, 0, 0), Measure='Pedestrians', Value=172163, Average=56810.0),\n",
       " Report(Border='US-Canada Border', Date=datetime.datetime(2019, 2, 1, 0, 0), Measure='Truck Containers Empty', Value=1319, Average=0),\n",
       " Report(Border='US-Mexico Border', Date=datetime.datetime(2019, 1, 1, 0, 0), Measure='Pedestrians', Value=56810, Average=0)]"
      ]
     },
     "execution_count": 49,
     "metadata": {},
     "output_type": "execute_result"
    }
   ],
   "source": [
    "report"
   ]
  },
  {
   "cell_type": "code",
   "execution_count": null,
   "metadata": {},
   "outputs": [],
   "source": []
  }
 ],
 "metadata": {
  "kernelspec": {
   "display_name": "Python 2",
   "language": "python",
   "name": "python2"
  },
  "language_info": {
   "codemirror_mode": {
    "name": "ipython",
    "version": 2
   },
   "file_extension": ".py",
   "mimetype": "text/x-python",
   "name": "python",
   "nbconvert_exporter": "python",
   "pygments_lexer": "ipython2",
   "version": "2.7.16"
  }
 },
 "nbformat": 4,
 "nbformat_minor": 2
}
